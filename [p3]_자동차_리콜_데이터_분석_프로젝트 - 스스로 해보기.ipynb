{
 "cells": [
  {
   "cell_type": "markdown",
   "metadata": {
    "execution": {
     "iopub.execute_input": "2021-07-14T07:39:16.657586Z",
     "iopub.status.busy": "2021-07-14T07:39:16.657090Z",
     "iopub.status.idle": "2021-07-14T07:39:16.848501Z",
     "shell.execute_reply": "2021-07-14T07:39:16.846744Z",
     "shell.execute_reply.started": "2021-07-14T07:39:16.657491Z"
    }
   },
   "source": [
    "# [Project 3] 자동차 리콜 데이터 분석"
   ]
  },
  {
   "cell_type": "markdown",
   "metadata": {
    "execution": {
     "iopub.execute_input": "2021-07-14T07:40:47.362214Z",
     "iopub.status.busy": "2021-07-14T07:40:47.361841Z",
     "iopub.status.idle": "2021-07-14T07:40:47.368894Z",
     "shell.execute_reply": "2021-07-14T07:40:47.367421Z",
     "shell.execute_reply.started": "2021-07-14T07:40:47.362181Z"
    }
   },
   "source": [
    "---"
   ]
  },
  {
   "cell_type": "markdown",
   "metadata": {},
   "source": [
    "## 프로젝트 목표\n",
    "- 한국교통안전공단 자동차 결함 리콜 데이터를 분석하여 유의미한 정보 도출\n",
    "- 탐색적 데이터 분석을 수행하기 위한 데이터 정제, 특성 엔지니어링, 시각화 방법 학습"
   ]
  },
  {
   "cell_type": "markdown",
   "metadata": {},
   "source": [
    "---"
   ]
  },
  {
   "cell_type": "markdown",
   "metadata": {},
   "source": [
    "## 프로젝트 목차\n",
    "1. **데이터 읽기:** 자동차 리콜 데이터를 불러오고 Dataframe 구조를 확인<br>\n",
    "    1.1. 데이터 불러오기<br>\n",
    "<br> \n",
    "2. **데이터 정제:** 결측치 확인 및 기초적인 데이터 변형<br>\n",
    "    2.1. 결측치 확인<br>\n",
    "    2.2. 중복값 확인<br>\n",
    "    2.3. 기초적인 데이터 변형<br>\n",
    "<br>\n",
    "3. **데이터 시각화:** 각 변수 별로 추가적인 정제 또는 feature engineering 과정을 거치고 시각화를 통하여 데이터의 특성 파악<br>\n",
    "    3.1. 제조사별 리콜 현황 출력<br>\n",
    "    3.2. 모델별 리콜 현황 출력<br>\n",
    "    3.3. 월별 리콜 현황 출력<br>\n",
    "    3.4. 생산연도별 리콜 현황 출력<br>\n",
    "    3.5. 4분기 제조사별 리콜 현황 출력<br>\n",
    "    3.6. 하반기 생산연도별 리콜 현황 출력<br>\n",
    "    3.7. 워드 클라우드를 이용한 리콜 사유 시각화<br>"
   ]
  },
  {
   "cell_type": "markdown",
   "metadata": {},
   "source": [
    "---"
   ]
  },
  {
   "cell_type": "markdown",
   "metadata": {},
   "source": [
    "## 데이터 출처\n",
    "-  https://www.data.go.kr/data/3048950/fileData.do"
   ]
  },
  {
   "cell_type": "markdown",
   "metadata": {},
   "source": [
    "---"
   ]
  },
  {
   "cell_type": "markdown",
   "metadata": {},
   "source": [
    "## 프로젝트 개요\n",
    "\n",
    "리콜(recall)은 제품의 설계, 제조 단계에서 결함이 발견되었을 시 문제 예방의 차원에서 판매자가 무상으로 수리, 점검 및 교환을 해주는 소비자 보호 제도입니다. 집집마다 개인용 자동차를 보유하게 되면서 자동차는 어느덧 우리 삶의 일상재가 되었지만, 안전성에 대해서는 산발적인 문제 제기가 계속되고 있고, 이에 따라 전격적인 자동차 리콜 사태도 종종 발생하여 화제를 모으곤 합니다.\n",
    "\n",
    "이번 프로젝트에서는 한국교통안전공단에서 제공한 2020년 자동차 결함 리콜 데이터를 활용하여 유의미한 패턴 및 인사이트를 발굴하고 시각화하는 실습을 진행하도록 하겠습니다."
   ]
  },
  {
   "cell_type": "markdown",
   "metadata": {},
   "source": [
    "---"
   ]
  },
  {
   "cell_type": "markdown",
   "metadata": {},
   "source": [
    "## 1. 데이터 읽기"
   ]
  },
  {
   "cell_type": "markdown",
   "metadata": {},
   "source": [
    "필요한 패키지 설치 및 `import`한 후 `pandas`를 사용하여 데이터를 읽고 어떠한 데이터가 저장되어 있는지 확인합니다."
   ]
  },
  {
   "cell_type": "markdown",
   "metadata": {},
   "source": [
    "### 1.1. 데이터 불러오기"
   ]
  },
  {
   "cell_type": "code",
   "execution_count": 1,
   "metadata": {
    "execution": {
     "iopub.execute_input": "2021-07-14T07:49:24.304064Z",
     "iopub.status.busy": "2021-07-14T07:49:24.303454Z",
     "iopub.status.idle": "2021-07-14T07:49:25.479762Z",
     "shell.execute_reply": "2021-07-14T07:49:25.478867Z",
     "shell.execute_reply.started": "2021-07-14T07:49:24.304010Z"
    }
   },
   "outputs": [
    {
     "name": "stdout",
     "output_type": "stream",
     "text": [
      "Collecting missingno\n",
      "  Downloading missingno-0.5.0-py3-none-any.whl (8.8 kB)\n",
      "Requirement already satisfied: numpy in /opt/conda/lib/python3.8/site-packages (from missingno) (1.19.4)\n",
      "Requirement already satisfied: matplotlib in /opt/conda/lib/python3.8/site-packages (from missingno) (3.3.3)\n",
      "Requirement already satisfied: seaborn in /opt/conda/lib/python3.8/site-packages (from missingno) (0.11.1)\n",
      "Requirement already satisfied: scipy in /opt/conda/lib/python3.8/site-packages (from missingno) (1.5.3)\n",
      "Requirement already satisfied: kiwisolver>=1.0.1 in /opt/conda/lib/python3.8/site-packages (from matplotlib->missingno) (1.3.1)\n",
      "Requirement already satisfied: cycler>=0.10 in /opt/conda/lib/python3.8/site-packages (from matplotlib->missingno) (0.10.0)\n",
      "Requirement already satisfied: python-dateutil>=2.1 in /opt/conda/lib/python3.8/site-packages (from matplotlib->missingno) (2.8.1)\n",
      "Requirement already satisfied: pillow>=6.2.0 in /opt/conda/lib/python3.8/site-packages (from matplotlib->missingno) (8.0.1)\n",
      "Requirement already satisfied: pyparsing!=2.0.4,!=2.1.2,!=2.1.6,>=2.0.3 in /opt/conda/lib/python3.8/site-packages (from matplotlib->missingno) (2.4.7)\n",
      "Requirement already satisfied: six in /opt/conda/lib/python3.8/site-packages (from cycler>=0.10->matplotlib->missingno) (1.15.0)\n",
      "Requirement already satisfied: pandas>=0.23 in /opt/conda/lib/python3.8/site-packages (from seaborn->missingno) (1.2.0)\n",
      "Requirement already satisfied: pytz>=2017.3 in /opt/conda/lib/python3.8/site-packages (from pandas>=0.23->seaborn->missingno) (2020.5)\n",
      "Installing collected packages: missingno\n",
      "Successfully installed missingno-0.5.0\n"
     ]
    }
   ],
   "source": [
    "# 필요한 라이브러리를 불러옵니다.\n",
    "import pandas as pd\n",
    "import numpy as np\n",
    "import matplotlib.pyplot as plt\n",
    "# missingno라는 라이브러리가 설치되어 있을 경우 import\n",
    "try : \n",
    "    import missingno as msno\n",
    "# missingno라는 라이브러리가 설치되어 있지 않을 경우 설치 후 import\n",
    "except:\n",
    "    !pip install missingno\n",
    "    import missingno as msno"
   ]
  },
  {
   "cell_type": "code",
   "execution_count": 2,
   "metadata": {},
   "outputs": [],
   "source": [
    "import seaborn as sns"
   ]
  },
  {
   "cell_type": "code",
   "execution_count": 3,
   "metadata": {
    "execution": {
     "iopub.execute_input": "2021-07-14T07:49:25.481432Z",
     "iopub.status.busy": "2021-07-14T07:49:25.481163Z",
     "iopub.status.idle": "2021-07-14T07:49:25.535734Z",
     "shell.execute_reply": "2021-07-14T07:49:25.534277Z",
     "shell.execute_reply.started": "2021-07-14T07:49:25.481406Z"
    }
   },
   "outputs": [],
   "source": [
    "# pd.read_csv를 통하여 dataframe 형태로 읽어옵니다.\n",
    "df = pd.read_csv(\"./data/한국교통안전공단_자동차결함 리콜현황_20201231.csv\", encoding=\"euc-kr\")"
   ]
  },
  {
   "cell_type": "code",
   "execution_count": 4,
   "metadata": {
    "execution": {
     "iopub.execute_input": "2021-07-14T07:49:25.538436Z",
     "iopub.status.busy": "2021-07-14T07:49:25.538013Z",
     "iopub.status.idle": "2021-07-14T07:49:25.574554Z",
     "shell.execute_reply": "2021-07-14T07:49:25.573616Z",
     "shell.execute_reply.started": "2021-07-14T07:49:25.538401Z"
    }
   },
   "outputs": [
    {
     "data": {
      "text/html": [
       "<div>\n",
       "<style scoped>\n",
       "    .dataframe tbody tr th:only-of-type {\n",
       "        vertical-align: middle;\n",
       "    }\n",
       "\n",
       "    .dataframe tbody tr th {\n",
       "        vertical-align: top;\n",
       "    }\n",
       "\n",
       "    .dataframe thead th {\n",
       "        text-align: right;\n",
       "    }\n",
       "</style>\n",
       "<table border=\"1\" class=\"dataframe\">\n",
       "  <thead>\n",
       "    <tr style=\"text-align: right;\">\n",
       "      <th></th>\n",
       "      <th>제작자</th>\n",
       "      <th>차명</th>\n",
       "      <th>생산기간</th>\n",
       "      <th>생산기간.1</th>\n",
       "      <th>리콜개시일</th>\n",
       "      <th>리콜사유</th>\n",
       "    </tr>\n",
       "  </thead>\n",
       "  <tbody>\n",
       "    <tr>\n",
       "      <th>0</th>\n",
       "      <td>(주)에프엠케이</td>\n",
       "      <td>기블리 디젤</td>\n",
       "      <td>2014-05-28</td>\n",
       "      <td>2016-03-15</td>\n",
       "      <td>2020-03-23</td>\n",
       "      <td>스탑 &amp; 고 기능 작동 직후 재시동 불가 1) 결함 있는 구조 장치 : 원동기(스탑...</td>\n",
       "    </tr>\n",
       "    <tr>\n",
       "      <th>1</th>\n",
       "      <td>(주)에프엠케이</td>\n",
       "      <td>콰트로포르테 디젤</td>\n",
       "      <td>2014-05-08</td>\n",
       "      <td>2016-03-14</td>\n",
       "      <td>2020-03-23</td>\n",
       "      <td>스탑 &amp; 고 기능 작동 직후 재시동 불가 1) 결함 있는 구조 장치 : 원동기(스탑...</td>\n",
       "    </tr>\n",
       "    <tr>\n",
       "      <th>2</th>\n",
       "      <td>한국토요타자동차(주)</td>\n",
       "      <td>토요타 프리우스</td>\n",
       "      <td>2019-07-11</td>\n",
       "      <td>2019-07-31</td>\n",
       "      <td>2020-01-23</td>\n",
       "      <td>콤비네이션 미터(계기판) 내부 기판의 생산 설비 관리가 부적절하여, 기판의 회로부품...</td>\n",
       "    </tr>\n",
       "    <tr>\n",
       "      <th>3</th>\n",
       "      <td>한국토요타자동차(주)</td>\n",
       "      <td>토요타 캠리</td>\n",
       "      <td>2019-08-23</td>\n",
       "      <td>2019-09-06</td>\n",
       "      <td>2020-01-23</td>\n",
       "      <td>뒷좌석 시트벨트의 부품조립설비의 조정이 부적절하여, 시트벨트 리트랙터 잠금장치*내부...</td>\n",
       "    </tr>\n",
       "    <tr>\n",
       "      <th>4</th>\n",
       "      <td>한국토요타자동차(주)</td>\n",
       "      <td>토요타 캠리 하이브리드</td>\n",
       "      <td>2019-08-21</td>\n",
       "      <td>2019-09-04</td>\n",
       "      <td>2020-01-23</td>\n",
       "      <td>뒷좌석 시트벨트의 부품조립설비의 조정이 부적절하여, 시트벨트 리트랙터 잠금장치*내부...</td>\n",
       "    </tr>\n",
       "  </tbody>\n",
       "</table>\n",
       "</div>"
      ],
      "text/plain": [
       "           제작자            차명        생산기간      생산기간.1       리콜개시일  \\\n",
       "0     (주)에프엠케이        기블리 디젤  2014-05-28  2016-03-15  2020-03-23   \n",
       "1     (주)에프엠케이     콰트로포르테 디젤  2014-05-08  2016-03-14  2020-03-23   \n",
       "2  한국토요타자동차(주)      토요타 프리우스  2019-07-11  2019-07-31  2020-01-23   \n",
       "3  한국토요타자동차(주)        토요타 캠리  2019-08-23  2019-09-06  2020-01-23   \n",
       "4  한국토요타자동차(주)  토요타 캠리 하이브리드  2019-08-21  2019-09-04  2020-01-23   \n",
       "\n",
       "                                                리콜사유  \n",
       "0  스탑 & 고 기능 작동 직후 재시동 불가 1) 결함 있는 구조 장치 : 원동기(스탑...  \n",
       "1  스탑 & 고 기능 작동 직후 재시동 불가 1) 결함 있는 구조 장치 : 원동기(스탑...  \n",
       "2  콤비네이션 미터(계기판) 내부 기판의 생산 설비 관리가 부적절하여, 기판의 회로부품...  \n",
       "3  뒷좌석 시트벨트의 부품조립설비의 조정이 부적절하여, 시트벨트 리트랙터 잠금장치*내부...  \n",
       "4  뒷좌석 시트벨트의 부품조립설비의 조정이 부적절하여, 시트벨트 리트랙터 잠금장치*내부...  "
      ]
     },
     "execution_count": 4,
     "metadata": {},
     "output_type": "execute_result"
    }
   ],
   "source": [
    "# 상위 5개 데이터를 출력합니다.\n",
    "df.head()"
   ]
  },
  {
   "cell_type": "code",
   "execution_count": 5,
   "metadata": {
    "execution": {
     "iopub.execute_input": "2021-07-14T07:49:25.576437Z",
     "iopub.status.busy": "2021-07-14T07:49:25.576110Z",
     "iopub.status.idle": "2021-07-14T07:49:25.593406Z",
     "shell.execute_reply": "2021-07-14T07:49:25.592375Z",
     "shell.execute_reply.started": "2021-07-14T07:49:25.576409Z"
    }
   },
   "outputs": [
    {
     "data": {
      "text/html": [
       "<div>\n",
       "<style scoped>\n",
       "    .dataframe tbody tr th:only-of-type {\n",
       "        vertical-align: middle;\n",
       "    }\n",
       "\n",
       "    .dataframe tbody tr th {\n",
       "        vertical-align: top;\n",
       "    }\n",
       "\n",
       "    .dataframe thead th {\n",
       "        text-align: right;\n",
       "    }\n",
       "</style>\n",
       "<table border=\"1\" class=\"dataframe\">\n",
       "  <thead>\n",
       "    <tr style=\"text-align: right;\">\n",
       "      <th></th>\n",
       "      <th>제작자</th>\n",
       "      <th>차명</th>\n",
       "      <th>생산기간</th>\n",
       "      <th>생산기간.1</th>\n",
       "      <th>리콜개시일</th>\n",
       "      <th>리콜사유</th>\n",
       "    </tr>\n",
       "  </thead>\n",
       "  <tbody>\n",
       "    <tr>\n",
       "      <th>0</th>\n",
       "      <td>(주)에프엠케이</td>\n",
       "      <td>기블리 디젤</td>\n",
       "      <td>2014-05-28</td>\n",
       "      <td>2016-03-15</td>\n",
       "      <td>2020-03-23</td>\n",
       "      <td>스탑 &amp; 고 기능 작동 직후 재시동 불가 1) 결함 있는 구조 장치 : 원동기(스탑...</td>\n",
       "    </tr>\n",
       "    <tr>\n",
       "      <th>1</th>\n",
       "      <td>(주)에프엠케이</td>\n",
       "      <td>콰트로포르테 디젤</td>\n",
       "      <td>2014-05-08</td>\n",
       "      <td>2016-03-14</td>\n",
       "      <td>2020-03-23</td>\n",
       "      <td>스탑 &amp; 고 기능 작동 직후 재시동 불가 1) 결함 있는 구조 장치 : 원동기(스탑...</td>\n",
       "    </tr>\n",
       "    <tr>\n",
       "      <th>2</th>\n",
       "      <td>한국토요타자동차(주)</td>\n",
       "      <td>토요타 프리우스</td>\n",
       "      <td>2019-07-11</td>\n",
       "      <td>2019-07-31</td>\n",
       "      <td>2020-01-23</td>\n",
       "      <td>콤비네이션 미터(계기판) 내부 기판의 생산 설비 관리가 부적절하여, 기판의 회로부품...</td>\n",
       "    </tr>\n",
       "    <tr>\n",
       "      <th>3</th>\n",
       "      <td>한국토요타자동차(주)</td>\n",
       "      <td>토요타 캠리</td>\n",
       "      <td>2019-08-23</td>\n",
       "      <td>2019-09-06</td>\n",
       "      <td>2020-01-23</td>\n",
       "      <td>뒷좌석 시트벨트의 부품조립설비의 조정이 부적절하여, 시트벨트 리트랙터 잠금장치*내부...</td>\n",
       "    </tr>\n",
       "    <tr>\n",
       "      <th>4</th>\n",
       "      <td>한국토요타자동차(주)</td>\n",
       "      <td>토요타 캠리 하이브리드</td>\n",
       "      <td>2019-08-21</td>\n",
       "      <td>2019-09-04</td>\n",
       "      <td>2020-01-23</td>\n",
       "      <td>뒷좌석 시트벨트의 부품조립설비의 조정이 부적절하여, 시트벨트 리트랙터 잠금장치*내부...</td>\n",
       "    </tr>\n",
       "    <tr>\n",
       "      <th>5</th>\n",
       "      <td>만트럭버스코리아(주)</td>\n",
       "      <td>TGS 카고</td>\n",
       "      <td>2016-04-11</td>\n",
       "      <td>2016-07-21</td>\n",
       "      <td>2020-01-31</td>\n",
       "      <td>비금속 재료(황화망간 또는 기타 산화물)가 특정부분에 비정상적으로 집중되어 일정한 ...</td>\n",
       "    </tr>\n",
       "    <tr>\n",
       "      <th>6</th>\n",
       "      <td>만트럭버스코리아(주)</td>\n",
       "      <td>TGS 카고</td>\n",
       "      <td>2016-04-29</td>\n",
       "      <td>2016-04-29</td>\n",
       "      <td>2020-01-31</td>\n",
       "      <td>비금속 재료(황화망간 또는 기타 산화물)가 특정부분에 비정상적으로 집중되어 일정한 ...</td>\n",
       "    </tr>\n",
       "    <tr>\n",
       "      <th>7</th>\n",
       "      <td>만트럭버스코리아(주)</td>\n",
       "      <td>TGS 카고</td>\n",
       "      <td>2015-03-25</td>\n",
       "      <td>2016-04-01</td>\n",
       "      <td>2020-01-31</td>\n",
       "      <td>비금속 재료(황화망간 또는 기타 산화물)가 특정부분에 비정상적으로 집중되어 일정한 ...</td>\n",
       "    </tr>\n",
       "    <tr>\n",
       "      <th>8</th>\n",
       "      <td>만트럭버스코리아(주)</td>\n",
       "      <td>TGX 트랙터</td>\n",
       "      <td>2015-03-25</td>\n",
       "      <td>2016-07-04</td>\n",
       "      <td>2020-01-31</td>\n",
       "      <td>비금속 재료(황화망간 또는 기타 산화물)가 특정부분에 비정상적으로 집중되어 일정한 ...</td>\n",
       "    </tr>\n",
       "    <tr>\n",
       "      <th>9</th>\n",
       "      <td>만트럭버스코리아(주)</td>\n",
       "      <td>TGX 트랙터</td>\n",
       "      <td>2015-05-05</td>\n",
       "      <td>2016-09-15</td>\n",
       "      <td>2020-01-31</td>\n",
       "      <td>비금속 재료(황화망간 또는 기타 산화물)가 특정부분에 비정상적으로 집중되어 일정한 ...</td>\n",
       "    </tr>\n",
       "  </tbody>\n",
       "</table>\n",
       "</div>"
      ],
      "text/plain": [
       "           제작자            차명        생산기간      생산기간.1       리콜개시일  \\\n",
       "0     (주)에프엠케이        기블리 디젤  2014-05-28  2016-03-15  2020-03-23   \n",
       "1     (주)에프엠케이     콰트로포르테 디젤  2014-05-08  2016-03-14  2020-03-23   \n",
       "2  한국토요타자동차(주)      토요타 프리우스  2019-07-11  2019-07-31  2020-01-23   \n",
       "3  한국토요타자동차(주)        토요타 캠리  2019-08-23  2019-09-06  2020-01-23   \n",
       "4  한국토요타자동차(주)  토요타 캠리 하이브리드  2019-08-21  2019-09-04  2020-01-23   \n",
       "5  만트럭버스코리아(주)        TGS 카고  2016-04-11  2016-07-21  2020-01-31   \n",
       "6  만트럭버스코리아(주)        TGS 카고  2016-04-29  2016-04-29  2020-01-31   \n",
       "7  만트럭버스코리아(주)        TGS 카고  2015-03-25  2016-04-01  2020-01-31   \n",
       "8  만트럭버스코리아(주)       TGX 트랙터  2015-03-25  2016-07-04  2020-01-31   \n",
       "9  만트럭버스코리아(주)       TGX 트랙터  2015-05-05  2016-09-15  2020-01-31   \n",
       "\n",
       "                                                리콜사유  \n",
       "0  스탑 & 고 기능 작동 직후 재시동 불가 1) 결함 있는 구조 장치 : 원동기(스탑...  \n",
       "1  스탑 & 고 기능 작동 직후 재시동 불가 1) 결함 있는 구조 장치 : 원동기(스탑...  \n",
       "2  콤비네이션 미터(계기판) 내부 기판의 생산 설비 관리가 부적절하여, 기판의 회로부품...  \n",
       "3  뒷좌석 시트벨트의 부품조립설비의 조정이 부적절하여, 시트벨트 리트랙터 잠금장치*내부...  \n",
       "4  뒷좌석 시트벨트의 부품조립설비의 조정이 부적절하여, 시트벨트 리트랙터 잠금장치*내부...  \n",
       "5  비금속 재료(황화망간 또는 기타 산화물)가 특정부분에 비정상적으로 집중되어 일정한 ...  \n",
       "6  비금속 재료(황화망간 또는 기타 산화물)가 특정부분에 비정상적으로 집중되어 일정한 ...  \n",
       "7  비금속 재료(황화망간 또는 기타 산화물)가 특정부분에 비정상적으로 집중되어 일정한 ...  \n",
       "8  비금속 재료(황화망간 또는 기타 산화물)가 특정부분에 비정상적으로 집중되어 일정한 ...  \n",
       "9  비금속 재료(황화망간 또는 기타 산화물)가 특정부분에 비정상적으로 집중되어 일정한 ...  "
      ]
     },
     "execution_count": 5,
     "metadata": {},
     "output_type": "execute_result"
    }
   ],
   "source": [
    "# 상위 10개 데이터를 출력합니다.\n",
    "df.head(10)"
   ]
  },
  {
   "cell_type": "code",
   "execution_count": 6,
   "metadata": {
    "execution": {
     "iopub.execute_input": "2021-07-14T07:49:25.595269Z",
     "iopub.status.busy": "2021-07-14T07:49:25.594828Z",
     "iopub.status.idle": "2021-07-14T07:49:25.616366Z",
     "shell.execute_reply": "2021-07-14T07:49:25.615093Z",
     "shell.execute_reply.started": "2021-07-14T07:49:25.595233Z"
    }
   },
   "outputs": [
    {
     "data": {
      "text/html": [
       "<div>\n",
       "<style scoped>\n",
       "    .dataframe tbody tr th:only-of-type {\n",
       "        vertical-align: middle;\n",
       "    }\n",
       "\n",
       "    .dataframe tbody tr th {\n",
       "        vertical-align: top;\n",
       "    }\n",
       "\n",
       "    .dataframe thead th {\n",
       "        text-align: right;\n",
       "    }\n",
       "</style>\n",
       "<table border=\"1\" class=\"dataframe\">\n",
       "  <thead>\n",
       "    <tr style=\"text-align: right;\">\n",
       "      <th></th>\n",
       "      <th>제작자</th>\n",
       "      <th>차명</th>\n",
       "      <th>생산기간</th>\n",
       "      <th>생산기간.1</th>\n",
       "      <th>리콜개시일</th>\n",
       "      <th>리콜사유</th>\n",
       "    </tr>\n",
       "  </thead>\n",
       "  <tbody>\n",
       "    <tr>\n",
       "      <th>1265</th>\n",
       "      <td>비엠더블유코리아(주)</td>\n",
       "      <td>BMW X6 xDrive40d</td>\n",
       "      <td>2020-07-02</td>\n",
       "      <td>2020-08-29</td>\n",
       "      <td>2020-12-29</td>\n",
       "      <td>발전기 +, - 배선 설치 공정에서의 오류로 단자의 부 정확한 고정 가능성으로 단자...</td>\n",
       "    </tr>\n",
       "    <tr>\n",
       "      <th>1266</th>\n",
       "      <td>비엠더블유코리아(주)</td>\n",
       "      <td>BMW X7 xDrive40d</td>\n",
       "      <td>2020-08-03</td>\n",
       "      <td>2020-09-12</td>\n",
       "      <td>2020-12-29</td>\n",
       "      <td>발전기 +, - 배선 설치 공정에서의 오류로 단자의 부 정확한 고정 가능성으로 단자...</td>\n",
       "    </tr>\n",
       "    <tr>\n",
       "      <th>1267</th>\n",
       "      <td>메르세데스벤츠코리아(주)</td>\n",
       "      <td>GLC 220 d 4MATIC</td>\n",
       "      <td>2019-02-04</td>\n",
       "      <td>2019-02-05</td>\n",
       "      <td>2020-12-24</td>\n",
       "      <td>생산 공정 오류로 인하여 전조등(LED 멀티빔)의 조사 범위가 사양에 맞지 않게 설...</td>\n",
       "    </tr>\n",
       "    <tr>\n",
       "      <th>1268</th>\n",
       "      <td>메르세데스벤츠코리아(주)</td>\n",
       "      <td>GLC 300 d 4MATIC</td>\n",
       "      <td>2019-02-05</td>\n",
       "      <td>2019-02-19</td>\n",
       "      <td>2020-12-24</td>\n",
       "      <td>생산 공정 오류로 인하여 전조등(LED 멀티빔)의 조사 범위가 사양에 맞지 않게 설...</td>\n",
       "    </tr>\n",
       "    <tr>\n",
       "      <th>1269</th>\n",
       "      <td>메르세데스벤츠코리아(주)</td>\n",
       "      <td>GLC 300 4MATIC</td>\n",
       "      <td>2019-02-06</td>\n",
       "      <td>2019-02-12</td>\n",
       "      <td>2020-12-24</td>\n",
       "      <td>생산 공정 오류로 인하여 전조등(LED 멀티빔)의 조사 범위가 사양에 맞지 않게 설...</td>\n",
       "    </tr>\n",
       "    <tr>\n",
       "      <th>1270</th>\n",
       "      <td>한국닛산(주)</td>\n",
       "      <td>INFINITI M30</td>\n",
       "      <td>2012-02-06</td>\n",
       "      <td>2012-02-06</td>\n",
       "      <td>2020-12-28</td>\n",
       "      <td>프로펠러 샤프트의 내구성이 저하될 수 있습니다.</td>\n",
       "    </tr>\n",
       "    <tr>\n",
       "      <th>1271</th>\n",
       "      <td>한국닛산(주)</td>\n",
       "      <td>INFINITI M30d</td>\n",
       "      <td>2012-07-18</td>\n",
       "      <td>2013-06-28</td>\n",
       "      <td>2020-12-28</td>\n",
       "      <td>프로펠러 샤프트의 내구성이 저하될 수 있습니다.</td>\n",
       "    </tr>\n",
       "    <tr>\n",
       "      <th>1272</th>\n",
       "      <td>한국닛산(주)</td>\n",
       "      <td>INFINITI Q70 3.0d</td>\n",
       "      <td>2013-09-18</td>\n",
       "      <td>2015-06-23</td>\n",
       "      <td>2020-12-28</td>\n",
       "      <td>프로펠러 샤프트의 내구성이 저하될 수 있습니다.</td>\n",
       "    </tr>\n",
       "    <tr>\n",
       "      <th>1273</th>\n",
       "      <td>한국닛산(주)</td>\n",
       "      <td>INFINITI M56</td>\n",
       "      <td>2010-05-25</td>\n",
       "      <td>2011-11-23</td>\n",
       "      <td>2020-12-28</td>\n",
       "      <td>프로펠러 샤프트의 내구성이 저하될 수 있습니다.</td>\n",
       "    </tr>\n",
       "    <tr>\n",
       "      <th>1274</th>\n",
       "      <td>한국닛산(주)</td>\n",
       "      <td>INFINITI Q70 5.6</td>\n",
       "      <td>2014-04-08</td>\n",
       "      <td>2014-04-08</td>\n",
       "      <td>2020-12-28</td>\n",
       "      <td>프로펠러 샤프트의 내구성이 저하될 수 있습니다.</td>\n",
       "    </tr>\n",
       "  </tbody>\n",
       "</table>\n",
       "</div>"
      ],
      "text/plain": [
       "                제작자                 차명        생산기간      생산기간.1       리콜개시일  \\\n",
       "1265    비엠더블유코리아(주)   BMW X6 xDrive40d  2020-07-02  2020-08-29  2020-12-29   \n",
       "1266    비엠더블유코리아(주)   BMW X7 xDrive40d  2020-08-03  2020-09-12  2020-12-29   \n",
       "1267  메르세데스벤츠코리아(주)   GLC 220 d 4MATIC  2019-02-04  2019-02-05  2020-12-24   \n",
       "1268  메르세데스벤츠코리아(주)   GLC 300 d 4MATIC  2019-02-05  2019-02-19  2020-12-24   \n",
       "1269  메르세데스벤츠코리아(주)     GLC 300 4MATIC  2019-02-06  2019-02-12  2020-12-24   \n",
       "1270        한국닛산(주)       INFINITI M30  2012-02-06  2012-02-06  2020-12-28   \n",
       "1271        한국닛산(주)      INFINITI M30d  2012-07-18  2013-06-28  2020-12-28   \n",
       "1272        한국닛산(주)  INFINITI Q70 3.0d  2013-09-18  2015-06-23  2020-12-28   \n",
       "1273        한국닛산(주)       INFINITI M56  2010-05-25  2011-11-23  2020-12-28   \n",
       "1274        한국닛산(주)   INFINITI Q70 5.6  2014-04-08  2014-04-08  2020-12-28   \n",
       "\n",
       "                                                   리콜사유  \n",
       "1265  발전기 +, - 배선 설치 공정에서의 오류로 단자의 부 정확한 고정 가능성으로 단자...  \n",
       "1266  발전기 +, - 배선 설치 공정에서의 오류로 단자의 부 정확한 고정 가능성으로 단자...  \n",
       "1267  생산 공정 오류로 인하여 전조등(LED 멀티빔)의 조사 범위가 사양에 맞지 않게 설...  \n",
       "1268  생산 공정 오류로 인하여 전조등(LED 멀티빔)의 조사 범위가 사양에 맞지 않게 설...  \n",
       "1269  생산 공정 오류로 인하여 전조등(LED 멀티빔)의 조사 범위가 사양에 맞지 않게 설...  \n",
       "1270                         프로펠러 샤프트의 내구성이 저하될 수 있습니다.  \n",
       "1271                         프로펠러 샤프트의 내구성이 저하될 수 있습니다.  \n",
       "1272                         프로펠러 샤프트의 내구성이 저하될 수 있습니다.  \n",
       "1273                         프로펠러 샤프트의 내구성이 저하될 수 있습니다.  \n",
       "1274                         프로펠러 샤프트의 내구성이 저하될 수 있습니다.  "
      ]
     },
     "execution_count": 6,
     "metadata": {},
     "output_type": "execute_result"
    }
   ],
   "source": [
    "# 하위 5개 데이터를 출력합니다.\n",
    "df.tail(10)"
   ]
  },
  {
   "cell_type": "code",
   "execution_count": 7,
   "metadata": {
    "execution": {
     "iopub.execute_input": "2021-07-14T07:49:25.618499Z",
     "iopub.status.busy": "2021-07-14T07:49:25.618208Z",
     "iopub.status.idle": "2021-07-14T07:49:25.641552Z",
     "shell.execute_reply": "2021-07-14T07:49:25.640613Z",
     "shell.execute_reply.started": "2021-07-14T07:49:25.618472Z"
    }
   },
   "outputs": [
    {
     "name": "stdout",
     "output_type": "stream",
     "text": [
      "<class 'pandas.core.frame.DataFrame'>\n",
      "RangeIndex: 1275 entries, 0 to 1274\n",
      "Data columns (total 6 columns):\n",
      " #   Column  Non-Null Count  Dtype \n",
      "---  ------  --------------  ----- \n",
      " 0   제작자     1275 non-null   object\n",
      " 1   차명      1275 non-null   object\n",
      " 2   생산기간    1275 non-null   object\n",
      " 3   생산기간.1  1275 non-null   object\n",
      " 4   리콜개시일   1275 non-null   object\n",
      " 5   리콜사유    1275 non-null   object\n",
      "dtypes: object(6)\n",
      "memory usage: 59.9+ KB\n"
     ]
    }
   ],
   "source": [
    "# dataframe 정보를 요약하여 출력합니다. \n",
    "df.info()"
   ]
  },
  {
   "cell_type": "markdown",
   "metadata": {},
   "source": [
    "---"
   ]
  },
  {
   "cell_type": "markdown",
   "metadata": {},
   "source": [
    "## 2. 데이터 정제"
   ]
  },
  {
   "cell_type": "markdown",
   "metadata": {},
   "source": [
    "데이터를 읽고 확인했다면 결측값(missing data), 중복값(duplicates)을 처리하고 열 이름 변경과 같은 기초적인 데이터 변형을 진행해봅시다."
   ]
  },
  {
   "cell_type": "markdown",
   "metadata": {},
   "source": [
    "### 2.1. 결측치 확인"
   ]
  },
  {
   "cell_type": "markdown",
   "metadata": {},
   "source": [
    "`missingno.matrix()` 함수를 이용하여 결측치를 시각화해봅시다."
   ]
  },
  {
   "cell_type": "code",
   "execution_count": 8,
   "metadata": {},
   "outputs": [],
   "source": [
    "# 시각화를 위한 라이브러리와 폰트를 불러옵니다.\n",
    "import matplotlib.font_manager as fm\n",
    "\n",
    "font_dirs = ['/usr/share/fonts/truetype/nanum', ]\n",
    "font_files = fm.findSystemFonts(fontpaths=font_dirs)\n",
    "\n",
    "for font_file in font_files:\n",
    "    fm.fontManager.addfont(font_file)"
   ]
  },
  {
   "cell_type": "code",
   "execution_count": 9,
   "metadata": {
    "execution": {
     "iopub.execute_input": "2021-07-14T07:49:25.643943Z",
     "iopub.status.busy": "2021-07-14T07:49:25.643214Z",
     "iopub.status.idle": "2021-07-14T07:49:26.188584Z",
     "shell.execute_reply": "2021-07-14T07:49:26.187704Z",
     "shell.execute_reply.started": "2021-07-14T07:49:25.643900Z"
    }
   },
   "outputs": [
    {
     "data": {
      "text/plain": [
       "<AxesSubplot:>"
      ]
     },
     "execution_count": 9,
     "metadata": {},
     "output_type": "execute_result"
    },
    {
     "data": {
      "image/png": "[encoded data removed]",
      "text/plain": [
       "<Figure size 1800x720 with 3 Axes>"
      ]
     },
     "metadata": {},
     "output_type": "display_data"
    }
   ],
   "source": [
    "# 폰트를 적용하여 결측치를 시각화합니다.\n",
    "sns.set(font=\"NanumBarunGothic\", \n",
    "        rc={\"axes.unicode_minus\":False})\n",
    "msno.bar(df)"
   ]
  },
  {
   "cell_type": "markdown",
   "metadata": {},
   "source": [
    "`isna()` 함수를 이용하여 결측치를 확인해봅시다."
   ]
  },
  {
   "cell_type": "code",
   "execution_count": 10,
   "metadata": {
    "execution": {
     "iopub.execute_input": "2021-07-14T07:49:26.191402Z",
     "iopub.status.busy": "2021-07-14T07:49:26.191014Z",
     "iopub.status.idle": "2021-07-14T07:49:26.201774Z",
     "shell.execute_reply": "2021-07-14T07:49:26.200566Z",
     "shell.execute_reply.started": "2021-07-14T07:49:26.191370Z"
    }
   },
   "outputs": [
    {
     "data": {
      "text/plain": [
       "제작자       0\n",
       "차명        0\n",
       "생산기간      0\n",
       "생산기간.1    0\n",
       "리콜개시일     0\n",
       "리콜사유      0\n",
       "dtype: int64"
      ]
     },
     "execution_count": 10,
     "metadata": {},
     "output_type": "execute_result"
    }
   ],
   "source": [
    "# 각 열 별로 결측치의 갯수를 반환합니다. (True:1, False:0)\n",
    "df.isna().sum()"
   ]
  },
  {
   "cell_type": "markdown",
   "metadata": {},
   "source": [
    "### 2.2. 중복값 확인"
   ]
  },
  {
   "cell_type": "markdown",
   "metadata": {},
   "source": [
    "`duplicated()` 함수를 이용하여 중복값을 확인해봅시다."
   ]
  },
  {
   "cell_type": "code",
   "execution_count": 11,
   "metadata": {
    "execution": {
     "iopub.execute_input": "2021-07-14T07:49:26.204454Z",
     "iopub.status.busy": "2021-07-14T07:49:26.204028Z",
     "iopub.status.idle": "2021-07-14T07:49:26.228760Z",
     "shell.execute_reply": "2021-07-14T07:49:26.227322Z",
     "shell.execute_reply.started": "2021-07-14T07:49:26.204412Z"
    }
   },
   "outputs": [
    {
     "data": {
      "text/plain": [
       "<bound method DataFrame.duplicated of               제작자                 차명        생산기간      생산기간.1       리콜개시일  \\\n",
       "0        (주)에프엠케이             기블리 디젤  2014-05-28  2016-03-15  2020-03-23   \n",
       "1        (주)에프엠케이          콰트로포르테 디젤  2014-05-08  2016-03-14  2020-03-23   \n",
       "2     한국토요타자동차(주)           토요타 프리우스  2019-07-11  2019-07-31  2020-01-23   \n",
       "3     한국토요타자동차(주)             토요타 캠리  2019-08-23  2019-09-06  2020-01-23   \n",
       "4     한국토요타자동차(주)       토요타 캠리 하이브리드  2019-08-21  2019-09-04  2020-01-23   \n",
       "...           ...                ...         ...         ...         ...   \n",
       "1270      한국닛산(주)       INFINITI M30  2012-02-06  2012-02-06  2020-12-28   \n",
       "1271      한국닛산(주)      INFINITI M30d  2012-07-18  2013-06-28  2020-12-28   \n",
       "1272      한국닛산(주)  INFINITI Q70 3.0d  2013-09-18  2015-06-23  2020-12-28   \n",
       "1273      한국닛산(주)       INFINITI M56  2010-05-25  2011-11-23  2020-12-28   \n",
       "1274      한국닛산(주)   INFINITI Q70 5.6  2014-04-08  2014-04-08  2020-12-28   \n",
       "\n",
       "                                                   리콜사유  \n",
       "0     스탑 & 고 기능 작동 직후 재시동 불가 1) 결함 있는 구조 장치 : 원동기(스탑...  \n",
       "1     스탑 & 고 기능 작동 직후 재시동 불가 1) 결함 있는 구조 장치 : 원동기(스탑...  \n",
       "2     콤비네이션 미터(계기판) 내부 기판의 생산 설비 관리가 부적절하여, 기판의 회로부품...  \n",
       "3     뒷좌석 시트벨트의 부품조립설비의 조정이 부적절하여, 시트벨트 리트랙터 잠금장치*내부...  \n",
       "4     뒷좌석 시트벨트의 부품조립설비의 조정이 부적절하여, 시트벨트 리트랙터 잠금장치*내부...  \n",
       "...                                                 ...  \n",
       "1270                         프로펠러 샤프트의 내구성이 저하될 수 있습니다.  \n",
       "1271                         프로펠러 샤프트의 내구성이 저하될 수 있습니다.  \n",
       "1272                         프로펠러 샤프트의 내구성이 저하될 수 있습니다.  \n",
       "1273                         프로펠러 샤프트의 내구성이 저하될 수 있습니다.  \n",
       "1274                         프로펠러 샤프트의 내구성이 저하될 수 있습니다.  \n",
       "\n",
       "[1275 rows x 6 columns]>"
      ]
     },
     "execution_count": 11,
     "metadata": {},
     "output_type": "execute_result"
    }
   ],
   "source": [
    "# 데이터의 중복값을 확인해보세요.\n",
    "df.duplicated"
   ]
  },
  {
   "cell_type": "markdown",
   "metadata": {},
   "source": [
    "`drop_duplicates()` 함수를 이용하여 중복값을 제거합니다."
   ]
  },
  {
   "cell_type": "code",
   "execution_count": 12,
   "metadata": {
    "execution": {
     "iopub.execute_input": "2021-07-14T07:49:26.230857Z",
     "iopub.status.busy": "2021-07-14T07:49:26.230464Z",
     "iopub.status.idle": "2021-07-14T07:49:26.243305Z",
     "shell.execute_reply": "2021-07-14T07:49:26.241938Z",
     "shell.execute_reply.started": "2021-07-14T07:49:26.230821Z"
    }
   },
   "outputs": [
    {
     "data": {
      "text/html": [
       "<div>\n",
       "<style scoped>\n",
       "    .dataframe tbody tr th:only-of-type {\n",
       "        vertical-align: middle;\n",
       "    }\n",
       "\n",
       "    .dataframe tbody tr th {\n",
       "        vertical-align: top;\n",
       "    }\n",
       "\n",
       "    .dataframe thead th {\n",
       "        text-align: right;\n",
       "    }\n",
       "</style>\n",
       "<table border=\"1\" class=\"dataframe\">\n",
       "  <thead>\n",
       "    <tr style=\"text-align: right;\">\n",
       "      <th></th>\n",
       "      <th>제작자</th>\n",
       "      <th>차명</th>\n",
       "      <th>생산기간</th>\n",
       "      <th>생산기간.1</th>\n",
       "      <th>리콜개시일</th>\n",
       "      <th>리콜사유</th>\n",
       "    </tr>\n",
       "  </thead>\n",
       "  <tbody>\n",
       "    <tr>\n",
       "      <th>0</th>\n",
       "      <td>(주)에프엠케이</td>\n",
       "      <td>기블리 디젤</td>\n",
       "      <td>2014-05-28</td>\n",
       "      <td>2016-03-15</td>\n",
       "      <td>2020-03-23</td>\n",
       "      <td>스탑 &amp; 고 기능 작동 직후 재시동 불가 1) 결함 있는 구조 장치 : 원동기(스탑...</td>\n",
       "    </tr>\n",
       "    <tr>\n",
       "      <th>1</th>\n",
       "      <td>(주)에프엠케이</td>\n",
       "      <td>콰트로포르테 디젤</td>\n",
       "      <td>2014-05-08</td>\n",
       "      <td>2016-03-14</td>\n",
       "      <td>2020-03-23</td>\n",
       "      <td>스탑 &amp; 고 기능 작동 직후 재시동 불가 1) 결함 있는 구조 장치 : 원동기(스탑...</td>\n",
       "    </tr>\n",
       "    <tr>\n",
       "      <th>2</th>\n",
       "      <td>한국토요타자동차(주)</td>\n",
       "      <td>토요타 프리우스</td>\n",
       "      <td>2019-07-11</td>\n",
       "      <td>2019-07-31</td>\n",
       "      <td>2020-01-23</td>\n",
       "      <td>콤비네이션 미터(계기판) 내부 기판의 생산 설비 관리가 부적절하여, 기판의 회로부품...</td>\n",
       "    </tr>\n",
       "    <tr>\n",
       "      <th>3</th>\n",
       "      <td>한국토요타자동차(주)</td>\n",
       "      <td>토요타 캠리</td>\n",
       "      <td>2019-08-23</td>\n",
       "      <td>2019-09-06</td>\n",
       "      <td>2020-01-23</td>\n",
       "      <td>뒷좌석 시트벨트의 부품조립설비의 조정이 부적절하여, 시트벨트 리트랙터 잠금장치*내부...</td>\n",
       "    </tr>\n",
       "    <tr>\n",
       "      <th>4</th>\n",
       "      <td>한국토요타자동차(주)</td>\n",
       "      <td>토요타 캠리 하이브리드</td>\n",
       "      <td>2019-08-21</td>\n",
       "      <td>2019-09-04</td>\n",
       "      <td>2020-01-23</td>\n",
       "      <td>뒷좌석 시트벨트의 부품조립설비의 조정이 부적절하여, 시트벨트 리트랙터 잠금장치*내부...</td>\n",
       "    </tr>\n",
       "    <tr>\n",
       "      <th>...</th>\n",
       "      <td>...</td>\n",
       "      <td>...</td>\n",
       "      <td>...</td>\n",
       "      <td>...</td>\n",
       "      <td>...</td>\n",
       "      <td>...</td>\n",
       "    </tr>\n",
       "    <tr>\n",
       "      <th>1270</th>\n",
       "      <td>한국닛산(주)</td>\n",
       "      <td>INFINITI M30</td>\n",
       "      <td>2012-02-06</td>\n",
       "      <td>2012-02-06</td>\n",
       "      <td>2020-12-28</td>\n",
       "      <td>프로펠러 샤프트의 내구성이 저하될 수 있습니다.</td>\n",
       "    </tr>\n",
       "    <tr>\n",
       "      <th>1271</th>\n",
       "      <td>한국닛산(주)</td>\n",
       "      <td>INFINITI M30d</td>\n",
       "      <td>2012-07-18</td>\n",
       "      <td>2013-06-28</td>\n",
       "      <td>2020-12-28</td>\n",
       "      <td>프로펠러 샤프트의 내구성이 저하될 수 있습니다.</td>\n",
       "    </tr>\n",
       "    <tr>\n",
       "      <th>1272</th>\n",
       "      <td>한국닛산(주)</td>\n",
       "      <td>INFINITI Q70 3.0d</td>\n",
       "      <td>2013-09-18</td>\n",
       "      <td>2015-06-23</td>\n",
       "      <td>2020-12-28</td>\n",
       "      <td>프로펠러 샤프트의 내구성이 저하될 수 있습니다.</td>\n",
       "    </tr>\n",
       "    <tr>\n",
       "      <th>1273</th>\n",
       "      <td>한국닛산(주)</td>\n",
       "      <td>INFINITI M56</td>\n",
       "      <td>2010-05-25</td>\n",
       "      <td>2011-11-23</td>\n",
       "      <td>2020-12-28</td>\n",
       "      <td>프로펠러 샤프트의 내구성이 저하될 수 있습니다.</td>\n",
       "    </tr>\n",
       "    <tr>\n",
       "      <th>1274</th>\n",
       "      <td>한국닛산(주)</td>\n",
       "      <td>INFINITI Q70 5.6</td>\n",
       "      <td>2014-04-08</td>\n",
       "      <td>2014-04-08</td>\n",
       "      <td>2020-12-28</td>\n",
       "      <td>프로펠러 샤프트의 내구성이 저하될 수 있습니다.</td>\n",
       "    </tr>\n",
       "  </tbody>\n",
       "</table>\n",
       "<p>1274 rows × 6 columns</p>\n",
       "</div>"
      ],
      "text/plain": [
       "              제작자                 차명        생산기간      생산기간.1       리콜개시일  \\\n",
       "0        (주)에프엠케이             기블리 디젤  2014-05-28  2016-03-15  2020-03-23   \n",
       "1        (주)에프엠케이          콰트로포르테 디젤  2014-05-08  2016-03-14  2020-03-23   \n",
       "2     한국토요타자동차(주)           토요타 프리우스  2019-07-11  2019-07-31  2020-01-23   \n",
       "3     한국토요타자동차(주)             토요타 캠리  2019-08-23  2019-09-06  2020-01-23   \n",
       "4     한국토요타자동차(주)       토요타 캠리 하이브리드  2019-08-21  2019-09-04  2020-01-23   \n",
       "...           ...                ...         ...         ...         ...   \n",
       "1270      한국닛산(주)       INFINITI M30  2012-02-06  2012-02-06  2020-12-28   \n",
       "1271      한국닛산(주)      INFINITI M30d  2012-07-18  2013-06-28  2020-12-28   \n",
       "1272      한국닛산(주)  INFINITI Q70 3.0d  2013-09-18  2015-06-23  2020-12-28   \n",
       "1273      한국닛산(주)       INFINITI M56  2010-05-25  2011-11-23  2020-12-28   \n",
       "1274      한국닛산(주)   INFINITI Q70 5.6  2014-04-08  2014-04-08  2020-12-28   \n",
       "\n",
       "                                                   리콜사유  \n",
       "0     스탑 & 고 기능 작동 직후 재시동 불가 1) 결함 있는 구조 장치 : 원동기(스탑...  \n",
       "1     스탑 & 고 기능 작동 직후 재시동 불가 1) 결함 있는 구조 장치 : 원동기(스탑...  \n",
       "2     콤비네이션 미터(계기판) 내부 기판의 생산 설비 관리가 부적절하여, 기판의 회로부품...  \n",
       "3     뒷좌석 시트벨트의 부품조립설비의 조정이 부적절하여, 시트벨트 리트랙터 잠금장치*내부...  \n",
       "4     뒷좌석 시트벨트의 부품조립설비의 조정이 부적절하여, 시트벨트 리트랙터 잠금장치*내부...  \n",
       "...                                                 ...  \n",
       "1270                         프로펠러 샤프트의 내구성이 저하될 수 있습니다.  \n",
       "1271                         프로펠러 샤프트의 내구성이 저하될 수 있습니다.  \n",
       "1272                         프로펠러 샤프트의 내구성이 저하될 수 있습니다.  \n",
       "1273                         프로펠러 샤프트의 내구성이 저하될 수 있습니다.  \n",
       "1274                         프로펠러 샤프트의 내구성이 저하될 수 있습니다.  \n",
       "\n",
       "[1274 rows x 6 columns]"
      ]
     },
     "execution_count": 12,
     "metadata": {},
     "output_type": "execute_result"
    }
   ],
   "source": [
    "# 중복값을 제거합니다.\n",
    "df_drop = df.drop_duplicates()\n",
    "df_drop"
   ]
  },
  {
   "cell_type": "markdown",
   "metadata": {},
   "source": [
    "### 2.3. 기초적인 데이터 변형"
   ]
  },
  {
   "cell_type": "markdown",
   "metadata": {},
   "source": [
    "현재 `생산기간`, `생산기간.1`, `리콜개시일` 열은 모두 `object` 타입, 즉 문자열로 인식되고 있습니다. 분석을 위해 연도, 월, 일을 각각 정수형으로 저장합니다. <br>\n",
    "추가적으로 분석의 편리를 위해 열 이름을 영어로 바꿔줍니다."
   ]
  },
  {
   "cell_type": "code",
   "execution_count": 13,
   "metadata": {
    "execution": {
     "iopub.execute_input": "2021-07-14T07:49:26.245238Z",
     "iopub.status.busy": "2021-07-14T07:49:26.244773Z",
     "iopub.status.idle": "2021-07-14T07:49:26.288742Z",
     "shell.execute_reply": "2021-07-14T07:49:26.287573Z",
     "shell.execute_reply.started": "2021-07-14T07:49:26.245203Z"
    }
   },
   "outputs": [],
   "source": [
    "# 년/월/일별로 apply()를 적용할 함수를 선언합니다.\n",
    "df[\"start_year\"] = df[\"생산기간\"].apply(lambda x: int(x.split(\"-\")[0]))\n",
    "df[\"start_month\"] = df[\"생산기간\"].apply(lambda x: int(x.split(\"-\")[1]))\n",
    "df[\"start_day\"] = df[\"생산기간\"].apply(lambda x: int(x.split(\"-\")[2]))\n",
    "\n",
    "df[\"start1_year\"]= df[\"생산기간.1\"].apply(lambda x: int(x.split(\"-\")[0]))\n",
    "df[\"start1_month\"]= df[\"생산기간.1\"].apply(lambda x: int(x.split(\"-\")[1]))\n",
    "df[\"start1_day\"]= df[\"생산기간.1\"].apply(lambda x: int(x.split(\"-\")[2]))\n",
    "\n",
    "df[\"recall_year\"]= df[\"리콜개시일\"].apply(lambda x: int(x.split(\"-\")[0]))\n",
    "df[\"recall_month\"]= df[\"리콜개시일\"].apply(lambda x: int(x.split(\"-\")[1]))\n",
    "df[\"recall_day\"]= df[\"리콜개시일\"].apply(lambda x: int(x.split(\"-\")[2]))\n",
    "\n",
    "# Pandas DataFrame에서는 row별로 loop를 도는 것이 굉장히 느리기 때문에, apply() 함수를 이용하여 벡터 연산을 진행합니다.\n"
   ]
  },
  {
   "cell_type": "code",
   "execution_count": 14,
   "metadata": {
    "execution": {
     "iopub.execute_input": "2021-07-14T07:49:26.290354Z",
     "iopub.status.busy": "2021-07-14T07:49:26.290046Z",
     "iopub.status.idle": "2021-07-14T07:49:26.310819Z",
     "shell.execute_reply": "2021-07-14T07:49:26.309651Z",
     "shell.execute_reply.started": "2021-07-14T07:49:26.290326Z"
    }
   },
   "outputs": [],
   "source": [
    "# 불필요한 열은 버리고, 열 이름을 재정의합니다.\n",
    "df_20 = df.drop(columns=[\"생산기간\", \"생산기간.1\", \"리콜개시일\"])"
   ]
  },
  {
   "cell_type": "markdown",
   "metadata": {},
   "source": [
    "본 분석에서는 2020년의 데이터만을 대상으로하므로, 그 외의 데이터가 있다면 삭제해주겠습니다."
   ]
  },
  {
   "cell_type": "code",
   "execution_count": 15,
   "metadata": {},
   "outputs": [
    {
     "name": "stdout",
     "output_type": "stream",
     "text": [
      "<class 'pandas.core.frame.DataFrame'>\n",
      "RangeIndex: 1275 entries, 0 to 1274\n",
      "Data columns (total 12 columns):\n",
      " #   Column        Non-Null Count  Dtype \n",
      "---  ------        --------------  ----- \n",
      " 0   제작자           1275 non-null   object\n",
      " 1   차명            1275 non-null   object\n",
      " 2   리콜사유          1275 non-null   object\n",
      " 3   start_year    1275 non-null   int64 \n",
      " 4   start_month   1275 non-null   int64 \n",
      " 5   start_day     1275 non-null   int64 \n",
      " 6   start1_year   1275 non-null   int64 \n",
      " 7   start1_month  1275 non-null   int64 \n",
      " 8   start1_day    1275 non-null   int64 \n",
      " 9   recall_year   1275 non-null   int64 \n",
      " 10  recall_month  1275 non-null   int64 \n",
      " 11  recall_day    1275 non-null   int64 \n",
      "dtypes: int64(9), object(3)\n",
      "memory usage: 119.7+ KB\n"
     ]
    }
   ],
   "source": [
    "# 2019년의 데이터가 함께 존재함을 알 수 있습니다.\n",
    "df_20.info()"
   ]
  },
  {
   "cell_type": "code",
   "execution_count": 16,
   "metadata": {},
   "outputs": [
    {
     "data": {
      "text/html": [
       "<div>\n",
       "<style scoped>\n",
       "    .dataframe tbody tr th:only-of-type {\n",
       "        vertical-align: middle;\n",
       "    }\n",
       "\n",
       "    .dataframe tbody tr th {\n",
       "        vertical-align: top;\n",
       "    }\n",
       "\n",
       "    .dataframe thead th {\n",
       "        text-align: right;\n",
       "    }\n",
       "</style>\n",
       "<table border=\"1\" class=\"dataframe\">\n",
       "  <thead>\n",
       "    <tr style=\"text-align: right;\">\n",
       "      <th></th>\n",
       "      <th>제작자</th>\n",
       "      <th>차명</th>\n",
       "      <th>리콜사유</th>\n",
       "      <th>start_year</th>\n",
       "      <th>start_month</th>\n",
       "      <th>start_day</th>\n",
       "      <th>start1_year</th>\n",
       "      <th>start1_month</th>\n",
       "      <th>start1_day</th>\n",
       "      <th>recall_year</th>\n",
       "      <th>recall_month</th>\n",
       "      <th>recall_day</th>\n",
       "    </tr>\n",
       "  </thead>\n",
       "  <tbody>\n",
       "    <tr>\n",
       "      <th>123</th>\n",
       "      <td>현대자동차(주)</td>\n",
       "      <td>GV80(JX)</td>\n",
       "      <td>GV80 스마트스트림 D3.0 엔진 장착 차량에서 공회전 제한 시스템(ISG) 로직...</td>\n",
       "      <td>2020</td>\n",
       "      <td>1</td>\n",
       "      <td>7</td>\n",
       "      <td>2020</td>\n",
       "      <td>2</td>\n",
       "      <td>11</td>\n",
       "      <td>2020</td>\n",
       "      <td>2</td>\n",
       "      <td>27</td>\n",
       "    </tr>\n",
       "    <tr>\n",
       "      <th>305</th>\n",
       "      <td>아우디폭스바겐코리아(주)</td>\n",
       "      <td>Q5 40 TDI qu./ Premium</td>\n",
       "      <td>특정 기간 동안 생산/수입된 일부 차량에 탑재된 좌석 안전 벨트 경고 기능 중, 2...</td>\n",
       "      <td>2020</td>\n",
       "      <td>2</td>\n",
       "      <td>5</td>\n",
       "      <td>2020</td>\n",
       "      <td>3</td>\n",
       "      <td>5</td>\n",
       "      <td>2020</td>\n",
       "      <td>3</td>\n",
       "      <td>18</td>\n",
       "    </tr>\n",
       "    <tr>\n",
       "      <th>307</th>\n",
       "      <td>아우디폭스바겐코리아(주)</td>\n",
       "      <td>Q5 50 TDI qu. Premium</td>\n",
       "      <td>특정 기간 동안 생산/수입된 일부 차량에 탑재된 좌석 안전 벨트 경고 기능 중, 2...</td>\n",
       "      <td>2020</td>\n",
       "      <td>2</td>\n",
       "      <td>28</td>\n",
       "      <td>2020</td>\n",
       "      <td>2</td>\n",
       "      <td>29</td>\n",
       "      <td>2020</td>\n",
       "      <td>3</td>\n",
       "      <td>18</td>\n",
       "    </tr>\n",
       "    <tr>\n",
       "      <th>310</th>\n",
       "      <td>현대자동차(주)</td>\n",
       "      <td>GV80 (JX1)</td>\n",
       "      <td>원격 스마트 주차 보조 기능(RSPA) 고장 감지 시 필요한 차량 제어 로직 미흡으...</td>\n",
       "      <td>2020</td>\n",
       "      <td>1</td>\n",
       "      <td>7</td>\n",
       "      <td>2020</td>\n",
       "      <td>2</td>\n",
       "      <td>18</td>\n",
       "      <td>2020</td>\n",
       "      <td>4</td>\n",
       "      <td>20</td>\n",
       "    </tr>\n",
       "    <tr>\n",
       "      <th>313</th>\n",
       "      <td>비엠더블유코리아(주)</td>\n",
       "      <td>BMW 840d xDrive</td>\n",
       "      <td>안전벨트 버클을 생산하는 과정에서의 생산오류(센서의 배선이 설계된 것 보다 짧게 연...</td>\n",
       "      <td>2020</td>\n",
       "      <td>2</td>\n",
       "      <td>10</td>\n",
       "      <td>2020</td>\n",
       "      <td>3</td>\n",
       "      <td>3</td>\n",
       "      <td>2020</td>\n",
       "      <td>4</td>\n",
       "      <td>10</td>\n",
       "    </tr>\n",
       "    <tr>\n",
       "      <th>...</th>\n",
       "      <td>...</td>\n",
       "      <td>...</td>\n",
       "      <td>...</td>\n",
       "      <td>...</td>\n",
       "      <td>...</td>\n",
       "      <td>...</td>\n",
       "      <td>...</td>\n",
       "      <td>...</td>\n",
       "      <td>...</td>\n",
       "      <td>...</td>\n",
       "      <td>...</td>\n",
       "      <td>...</td>\n",
       "    </tr>\n",
       "    <tr>\n",
       "      <th>1262</th>\n",
       "      <td>비엠더블유코리아(주)</td>\n",
       "      <td>BMW X5 xDrive40d</td>\n",
       "      <td>발전기 +, - 배선 설치 공정에서의 오류로 단자의 부 정확한 고정 가능성으로 단자...</td>\n",
       "      <td>2020</td>\n",
       "      <td>6</td>\n",
       "      <td>14</td>\n",
       "      <td>2020</td>\n",
       "      <td>8</td>\n",
       "      <td>25</td>\n",
       "      <td>2020</td>\n",
       "      <td>12</td>\n",
       "      <td>29</td>\n",
       "    </tr>\n",
       "    <tr>\n",
       "      <th>1263</th>\n",
       "      <td>비엠더블유코리아(주)</td>\n",
       "      <td>BMW X5 xDrive40i</td>\n",
       "      <td>발전기 +, - 배선 설치 공정에서의 오류로 단자의 부 정확한 고정 가능성으로 단자...</td>\n",
       "      <td>2020</td>\n",
       "      <td>8</td>\n",
       "      <td>7</td>\n",
       "      <td>2020</td>\n",
       "      <td>8</td>\n",
       "      <td>14</td>\n",
       "      <td>2020</td>\n",
       "      <td>12</td>\n",
       "      <td>29</td>\n",
       "    </tr>\n",
       "    <tr>\n",
       "      <th>1264</th>\n",
       "      <td>비엠더블유코리아(주)</td>\n",
       "      <td>BMW X6 xDrive30d</td>\n",
       "      <td>발전기 +, - 배선 설치 공정에서의 오류로 단자의 부 정확한 고정 가능성으로 단자...</td>\n",
       "      <td>2020</td>\n",
       "      <td>8</td>\n",
       "      <td>12</td>\n",
       "      <td>2020</td>\n",
       "      <td>9</td>\n",
       "      <td>28</td>\n",
       "      <td>2020</td>\n",
       "      <td>12</td>\n",
       "      <td>29</td>\n",
       "    </tr>\n",
       "    <tr>\n",
       "      <th>1265</th>\n",
       "      <td>비엠더블유코리아(주)</td>\n",
       "      <td>BMW X6 xDrive40d</td>\n",
       "      <td>발전기 +, - 배선 설치 공정에서의 오류로 단자의 부 정확한 고정 가능성으로 단자...</td>\n",
       "      <td>2020</td>\n",
       "      <td>7</td>\n",
       "      <td>2</td>\n",
       "      <td>2020</td>\n",
       "      <td>8</td>\n",
       "      <td>29</td>\n",
       "      <td>2020</td>\n",
       "      <td>12</td>\n",
       "      <td>29</td>\n",
       "    </tr>\n",
       "    <tr>\n",
       "      <th>1266</th>\n",
       "      <td>비엠더블유코리아(주)</td>\n",
       "      <td>BMW X7 xDrive40d</td>\n",
       "      <td>발전기 +, - 배선 설치 공정에서의 오류로 단자의 부 정확한 고정 가능성으로 단자...</td>\n",
       "      <td>2020</td>\n",
       "      <td>8</td>\n",
       "      <td>3</td>\n",
       "      <td>2020</td>\n",
       "      <td>9</td>\n",
       "      <td>12</td>\n",
       "      <td>2020</td>\n",
       "      <td>12</td>\n",
       "      <td>29</td>\n",
       "    </tr>\n",
       "  </tbody>\n",
       "</table>\n",
       "<p>146 rows × 12 columns</p>\n",
       "</div>"
      ],
      "text/plain": [
       "                제작자                      차명  \\\n",
       "123        현대자동차(주)                GV80(JX)   \n",
       "305   아우디폭스바겐코리아(주)  Q5 40 TDI qu./ Premium   \n",
       "307   아우디폭스바겐코리아(주)   Q5 50 TDI qu. Premium   \n",
       "310        현대자동차(주)              GV80 (JX1)   \n",
       "313     비엠더블유코리아(주)         BMW 840d xDrive   \n",
       "...             ...                     ...   \n",
       "1262    비엠더블유코리아(주)        BMW X5 xDrive40d   \n",
       "1263    비엠더블유코리아(주)        BMW X5 xDrive40i   \n",
       "1264    비엠더블유코리아(주)        BMW X6 xDrive30d   \n",
       "1265    비엠더블유코리아(주)        BMW X6 xDrive40d   \n",
       "1266    비엠더블유코리아(주)        BMW X7 xDrive40d   \n",
       "\n",
       "                                                   리콜사유  start_year  \\\n",
       "123   GV80 스마트스트림 D3.0 엔진 장착 차량에서 공회전 제한 시스템(ISG) 로직...        2020   \n",
       "305   특정 기간 동안 생산/수입된 일부 차량에 탑재된 좌석 안전 벨트 경고 기능 중, 2...        2020   \n",
       "307   특정 기간 동안 생산/수입된 일부 차량에 탑재된 좌석 안전 벨트 경고 기능 중, 2...        2020   \n",
       "310   원격 스마트 주차 보조 기능(RSPA) 고장 감지 시 필요한 차량 제어 로직 미흡으...        2020   \n",
       "313   안전벨트 버클을 생산하는 과정에서의 생산오류(센서의 배선이 설계된 것 보다 짧게 연...        2020   \n",
       "...                                                 ...         ...   \n",
       "1262  발전기 +, - 배선 설치 공정에서의 오류로 단자의 부 정확한 고정 가능성으로 단자...        2020   \n",
       "1263  발전기 +, - 배선 설치 공정에서의 오류로 단자의 부 정확한 고정 가능성으로 단자...        2020   \n",
       "1264  발전기 +, - 배선 설치 공정에서의 오류로 단자의 부 정확한 고정 가능성으로 단자...        2020   \n",
       "1265  발전기 +, - 배선 설치 공정에서의 오류로 단자의 부 정확한 고정 가능성으로 단자...        2020   \n",
       "1266  발전기 +, - 배선 설치 공정에서의 오류로 단자의 부 정확한 고정 가능성으로 단자...        2020   \n",
       "\n",
       "      start_month  start_day  start1_year  start1_month  start1_day  \\\n",
       "123             1          7         2020             2          11   \n",
       "305             2          5         2020             3           5   \n",
       "307             2         28         2020             2          29   \n",
       "310             1          7         2020             2          18   \n",
       "313             2         10         2020             3           3   \n",
       "...           ...        ...          ...           ...         ...   \n",
       "1262            6         14         2020             8          25   \n",
       "1263            8          7         2020             8          14   \n",
       "1264            8         12         2020             9          28   \n",
       "1265            7          2         2020             8          29   \n",
       "1266            8          3         2020             9          12   \n",
       "\n",
       "      recall_year  recall_month  recall_day  \n",
       "123          2020             2          27  \n",
       "305          2020             3          18  \n",
       "307          2020             3          18  \n",
       "310          2020             4          20  \n",
       "313          2020             4          10  \n",
       "...           ...           ...         ...  \n",
       "1262         2020            12          29  \n",
       "1263         2020            12          29  \n",
       "1264         2020            12          29  \n",
       "1265         2020            12          29  \n",
       "1266         2020            12          29  \n",
       "\n",
       "[146 rows x 12 columns]"
      ]
     },
     "execution_count": 16,
     "metadata": {},
     "output_type": "execute_result"
    }
   ],
   "source": [
    "# 2020년의 데이터만을 남겨줍니다.\n",
    "df_20 = df_20[df_20[\"start_year\"]==2020]\n",
    "df_20"
   ]
  },
  {
   "cell_type": "markdown",
   "metadata": {},
   "source": [
    "---"
   ]
  },
  {
   "cell_type": "markdown",
   "metadata": {},
   "source": [
    "## 3. 데이터 시각화"
   ]
  },
  {
   "cell_type": "markdown",
   "metadata": {},
   "source": [
    "각 column의 변수별로 어떠한 데이터 분포를 하고 있는지 시각화를 통하여 알아봅시다."
   ]
  },
  {
   "cell_type": "markdown",
   "metadata": {},
   "source": [
    "### 3.1. 제조사별 리콜 현황 출력"
   ]
  },
  {
   "cell_type": "markdown",
   "metadata": {},
   "source": [
    "제조사별 리콜 건수 분포를 막대 그래프로 확인해보겠습니다."
   ]
  },
  {
   "cell_type": "code",
   "execution_count": 17,
   "metadata": {
    "execution": {
     "iopub.execute_input": "2021-07-14T07:49:26.312479Z",
     "iopub.status.busy": "2021-07-14T07:49:26.312134Z",
     "iopub.status.idle": "2021-07-14T07:49:26.330695Z",
     "shell.execute_reply": "2021-07-14T07:49:26.329328Z",
     "shell.execute_reply.started": "2021-07-14T07:49:26.312446Z"
    }
   },
   "outputs": [],
   "source": [
    "# 제조사별 리콜 건수를 정렬합니다.\n",
    "td = df.groupby(\"제작자\").count()[\"차명\"].sort_values(ascending=False)"
   ]
  },
  {
   "cell_type": "code",
   "execution_count": null,
   "metadata": {},
   "outputs": [],
   "source": []
  },
  {
   "cell_type": "code",
   "execution_count": 18,
   "metadata": {
    "execution": {
     "iopub.execute_input": "2021-07-14T07:49:26.333046Z",
     "iopub.status.busy": "2021-07-14T07:49:26.332677Z",
     "iopub.status.idle": "2021-07-14T07:49:26.356093Z",
     "shell.execute_reply": "2021-07-14T07:49:26.354888Z",
     "shell.execute_reply.started": "2021-07-14T07:49:26.333002Z"
    }
   },
   "outputs": [],
   "source": [
    "# 정렬한 데이터를 DataFrame으로 만드세요.\n",
    "tmp= pd.DataFrame(td)"
   ]
  },
  {
   "cell_type": "code",
   "execution_count": 19,
   "metadata": {
    "execution": {
     "iopub.execute_input": "2021-07-14T07:49:26.358359Z",
     "iopub.status.busy": "2021-07-14T07:49:26.357715Z",
     "iopub.status.idle": "2021-07-14T07:49:26.369031Z",
     "shell.execute_reply": "2021-07-14T07:49:26.367892Z",
     "shell.execute_reply.started": "2021-07-14T07:49:26.358312Z"
    }
   },
   "outputs": [
    {
     "data": {
      "text/html": [
       "<div>\n",
       "<style scoped>\n",
       "    .dataframe tbody tr th:only-of-type {\n",
       "        vertical-align: middle;\n",
       "    }\n",
       "\n",
       "    .dataframe tbody tr th {\n",
       "        vertical-align: top;\n",
       "    }\n",
       "\n",
       "    .dataframe thead th {\n",
       "        text-align: right;\n",
       "    }\n",
       "</style>\n",
       "<table border=\"1\" class=\"dataframe\">\n",
       "  <thead>\n",
       "    <tr style=\"text-align: right;\">\n",
       "      <th></th>\n",
       "      <th>차명</th>\n",
       "    </tr>\n",
       "    <tr>\n",
       "      <th>제작자</th>\n",
       "      <th></th>\n",
       "    </tr>\n",
       "  </thead>\n",
       "  <tbody>\n",
       "    <tr>\n",
       "      <th>비엠더블유코리아(주)</th>\n",
       "      <td>527</td>\n",
       "    </tr>\n",
       "    <tr>\n",
       "      <th>메르세데스벤츠코리아(주)</th>\n",
       "      <td>234</td>\n",
       "    </tr>\n",
       "    <tr>\n",
       "      <th>아우디폭스바겐코리아(주)</th>\n",
       "      <td>115</td>\n",
       "    </tr>\n",
       "    <tr>\n",
       "      <th>한불모터스(주)</th>\n",
       "      <td>71</td>\n",
       "    </tr>\n",
       "    <tr>\n",
       "      <th>한국토요타자동차(주)</th>\n",
       "      <td>54</td>\n",
       "    </tr>\n",
       "    <tr>\n",
       "      <th>(주)볼보자동차코리아</th>\n",
       "      <td>39</td>\n",
       "    </tr>\n",
       "    <tr>\n",
       "      <th>현대자동차(주)</th>\n",
       "      <td>28</td>\n",
       "    </tr>\n",
       "    <tr>\n",
       "      <th>화창상사(주)</th>\n",
       "      <td>25</td>\n",
       "    </tr>\n",
       "    <tr>\n",
       "      <th>기아자동차(주)</th>\n",
       "      <td>19</td>\n",
       "    </tr>\n",
       "    <tr>\n",
       "      <th>(주) 한국모터트레이딩</th>\n",
       "      <td>16</td>\n",
       "    </tr>\n",
       "    <tr>\n",
       "      <th>한국지엠주식회사</th>\n",
       "      <td>15</td>\n",
       "    </tr>\n",
       "    <tr>\n",
       "      <th>포드세일즈서비스코리아(유)</th>\n",
       "      <td>14</td>\n",
       "    </tr>\n",
       "    <tr>\n",
       "      <th>다임러트럭코리아(주)</th>\n",
       "      <td>13</td>\n",
       "    </tr>\n",
       "    <tr>\n",
       "      <th>(주) 바이크코리아</th>\n",
       "      <td>12</td>\n",
       "    </tr>\n",
       "    <tr>\n",
       "      <th>만트럭버스코리아(주)</th>\n",
       "      <td>11</td>\n",
       "    </tr>\n",
       "    <tr>\n",
       "      <th>혼다코리아(주)</th>\n",
       "      <td>10</td>\n",
       "    </tr>\n",
       "    <tr>\n",
       "      <th>(주)에프엠케이</th>\n",
       "      <td>9</td>\n",
       "    </tr>\n",
       "    <tr>\n",
       "      <th>한국닛산(주)</th>\n",
       "      <td>7</td>\n",
       "    </tr>\n",
       "    <tr>\n",
       "      <th>에프씨에이코리아(주)</th>\n",
       "      <td>7</td>\n",
       "    </tr>\n",
       "    <tr>\n",
       "      <th>(주)재규어랜드로버코리아</th>\n",
       "      <td>7</td>\n",
       "    </tr>\n",
       "    <tr>\n",
       "      <th>르노삼성자동차(주)</th>\n",
       "      <td>6</td>\n",
       "    </tr>\n",
       "    <tr>\n",
       "      <th>대전기계공업(주)</th>\n",
       "      <td>6</td>\n",
       "    </tr>\n",
       "    <tr>\n",
       "      <th>포르쉐코리아 주식회사</th>\n",
       "      <td>5</td>\n",
       "    </tr>\n",
       "    <tr>\n",
       "      <th>(주)스포츠모터사이클코리아</th>\n",
       "      <td>4</td>\n",
       "    </tr>\n",
       "    <tr>\n",
       "      <th>유한회사 모토로싸</th>\n",
       "      <td>4</td>\n",
       "    </tr>\n",
       "    <tr>\n",
       "      <th>기흥인터내셔널 유한회사</th>\n",
       "      <td>4</td>\n",
       "    </tr>\n",
       "    <tr>\n",
       "      <th>허스크바나모터싸이클코리아 주식회사</th>\n",
       "      <td>3</td>\n",
       "    </tr>\n",
       "    <tr>\n",
       "      <th>쌍용자동차(주)</th>\n",
       "      <td>3</td>\n",
       "    </tr>\n",
       "    <tr>\n",
       "      <th>(주)에이비케이</th>\n",
       "      <td>2</td>\n",
       "    </tr>\n",
       "    <tr>\n",
       "      <th>(주) 다빈월드</th>\n",
       "      <td>1</td>\n",
       "    </tr>\n",
       "    <tr>\n",
       "      <th>지엠아시아퍼시픽지역본부 주식회사</th>\n",
       "      <td>1</td>\n",
       "    </tr>\n",
       "    <tr>\n",
       "      <th>아이씨피(주)</th>\n",
       "      <td>1</td>\n",
       "    </tr>\n",
       "    <tr>\n",
       "      <th>(주)스즈키씨엠씨</th>\n",
       "      <td>1</td>\n",
       "    </tr>\n",
       "    <tr>\n",
       "      <th>스카니아코리아그룹(주)</th>\n",
       "      <td>1</td>\n",
       "    </tr>\n",
       "  </tbody>\n",
       "</table>\n",
       "</div>"
      ],
      "text/plain": [
       "                     차명\n",
       "제작자                    \n",
       "비엠더블유코리아(주)         527\n",
       "메르세데스벤츠코리아(주)       234\n",
       "아우디폭스바겐코리아(주)       115\n",
       "한불모터스(주)             71\n",
       "한국토요타자동차(주)          54\n",
       "(주)볼보자동차코리아          39\n",
       "현대자동차(주)             28\n",
       "화창상사(주)              25\n",
       "기아자동차(주)             19\n",
       "(주) 한국모터트레이딩         16\n",
       "한국지엠주식회사             15\n",
       "포드세일즈서비스코리아(유)       14\n",
       "다임러트럭코리아(주)          13\n",
       "(주) 바이크코리아           12\n",
       "만트럭버스코리아(주)          11\n",
       "혼다코리아(주)             10\n",
       "(주)에프엠케이              9\n",
       "한국닛산(주)               7\n",
       "에프씨에이코리아(주)           7\n",
       "(주)재규어랜드로버코리아         7\n",
       "르노삼성자동차(주)            6\n",
       "대전기계공업(주)             6\n",
       "포르쉐코리아 주식회사           5\n",
       "(주)스포츠모터사이클코리아        4\n",
       "유한회사 모토로싸             4\n",
       "기흥인터내셔널 유한회사          4\n",
       "허스크바나모터싸이클코리아 주식회사    3\n",
       "쌍용자동차(주)              3\n",
       "(주)에이비케이              2\n",
       "(주) 다빈월드              1\n",
       "지엠아시아퍼시픽지역본부 주식회사     1\n",
       "아이씨피(주)               1\n",
       "(주)스즈키씨엠씨             1\n",
       "스카니아코리아그룹(주)          1"
      ]
     },
     "execution_count": 19,
     "metadata": {},
     "output_type": "execute_result"
    }
   ],
   "source": [
    "# 만든 DataFrame을 변수에 저장합니다.\n",
    "tmp"
   ]
  },
  {
   "cell_type": "code",
   "execution_count": 20,
   "metadata": {
    "execution": {
     "iopub.execute_input": "2021-07-14T07:49:26.370909Z",
     "iopub.status.busy": "2021-07-14T07:49:26.370340Z",
     "iopub.status.idle": "2021-07-14T07:49:26.992462Z",
     "shell.execute_reply": "2021-07-14T07:49:26.991341Z",
     "shell.execute_reply.started": "2021-07-14T07:49:26.370874Z"
    }
   },
   "outputs": [
    {
     "data": {
      "image/png": "[encoded data removed]",
      "text/plain": [
       "<Figure size 1440x720 with 1 Axes>"
      ]
     },
     "metadata": {},
     "output_type": "display_data"
    }
   ],
   "source": [
    "plt.figure(figsize=(20,10))\n",
    "plt.xticks(rotation=70)\n",
    "plt.plot(tmp, 'o-')\n",
    "# 한글 출력을 위해서 폰트 옵션을 설정합니다.\n",
    "sns.set(font=\"NanumBarunGothic\", \n",
    "        rc={\"axes.unicode_minus\":False},\n",
    "        style='darkgrid')"
   ]
  },
  {
   "cell_type": "code",
   "execution_count": 21,
   "metadata": {
    "execution": {
     "iopub.execute_input": "2021-07-14T07:49:26.993951Z",
     "iopub.status.busy": "2021-07-14T07:49:26.993680Z",
     "iopub.status.idle": "2021-07-14T07:49:27.004653Z",
     "shell.execute_reply": "2021-07-14T07:49:27.003514Z",
     "shell.execute_reply.started": "2021-07-14T07:49:26.993925Z"
    }
   },
   "outputs": [
    {
     "data": {
      "text/plain": [
       "Index(['비엠더블유코리아(주)', '메르세데스벤츠코리아(주)', '아우디폭스바겐코리아(주)', '한불모터스(주)',\n",
       "       '한국토요타자동차(주)', '(주)볼보자동차코리아', '현대자동차(주)', '화창상사(주)', '기아자동차(주)',\n",
       "       '(주) 한국모터트레이딩', '한국지엠주식회사', '포드세일즈서비스코리아(유)', '다임러트럭코리아(주)',\n",
       "       '(주) 바이크코리아', '만트럭버스코리아(주)', '혼다코리아(주)', '(주)에프엠케이', '한국닛산(주)',\n",
       "       '에프씨에이코리아(주)', '(주)재규어랜드로버코리아', '르노삼성자동차(주)', '대전기계공업(주)',\n",
       "       '포르쉐코리아 주식회사', '(주)스포츠모터사이클코리아', '유한회사 모토로싸', '기흥인터내셔널 유한회사',\n",
       "       '허스크바나모터싸이클코리아 주식회사', '쌍용자동차(주)', '(주)에이비케이', '(주) 다빈월드',\n",
       "       '지엠아시아퍼시픽지역본부 주식회사', '아이씨피(주)', '(주)스즈키씨엠씨', '스카니아코리아그룹(주)'],\n",
       "      dtype='object', name='제작자')"
      ]
     },
     "execution_count": 21,
     "metadata": {},
     "output_type": "execute_result"
    }
   ],
   "source": [
    "# 변수에 저장한 DataFrame의 index를 확인해봅니다.\n",
    "tmp.index"
   ]
  },
  {
   "cell_type": "markdown",
   "metadata": {},
   "source": [
    "### 3.2. 모델별 리콜 현황 출력"
   ]
  },
  {
   "cell_type": "markdown",
   "metadata": {},
   "source": [
    "차량 모델별 리콜 건수 분포를 막대 그래프로 확인해보겠습니다."
   ]
  },
  {
   "cell_type": "code",
   "execution_count": 70,
   "metadata": {
    "execution": {
     "iopub.execute_input": "2021-07-14T07:49:27.006811Z",
     "iopub.status.busy": "2021-07-14T07:49:27.006367Z",
     "iopub.status.idle": "2021-07-14T07:49:27.026674Z",
     "shell.execute_reply": "2021-07-14T07:49:27.025647Z",
     "shell.execute_reply.started": "2021-07-14T07:49:27.006765Z"
    }
   },
   "outputs": [],
   "source": [
    "# 모델별 리콜 건수 데이터를 출력해봅니다.\n",
    "models = df_20.groupby(\"차명\").count()[\"제작자\"]\n",
    "models = pd.DataFrame(models)\n",
    "models = models.rename(columns={\"제작자\":\"count\"})"
   ]
  },
  {
   "cell_type": "markdown",
   "metadata": {},
   "source": [
    "모델은 굉장히 많으므로, 상위 50개 모델만 뽑아서 시각화를 진행해보겠습니다."
   ]
  },
  {
   "cell_type": "code",
   "execution_count": 71,
   "metadata": {
    "execution": {
     "iopub.execute_input": "2021-07-14T07:49:27.028396Z",
     "iopub.status.busy": "2021-07-14T07:49:27.028036Z",
     "iopub.status.idle": "2021-07-14T07:49:27.040380Z",
     "shell.execute_reply": "2021-07-14T07:49:27.039366Z",
     "shell.execute_reply.started": "2021-07-14T07:49:27.028364Z"
    }
   },
   "outputs": [],
   "source": [
    "# 모델별 리콜 건수의 상위 50개의 데이터를 뽑습니다.\n",
    "models.index.name = \"model\"\n",
    "models = models.iloc[:50]"
   ]
  },
  {
   "cell_type": "code",
   "execution_count": 73,
   "metadata": {
    "execution": {
     "iopub.execute_input": "2021-07-14T07:49:27.042610Z",
     "iopub.status.busy": "2021-07-14T07:49:27.042015Z",
     "iopub.status.idle": "2021-07-14T07:49:28.580484Z",
     "shell.execute_reply": "2021-07-14T07:49:28.579292Z",
     "shell.execute_reply.started": "2021-07-14T07:49:27.042561Z"
    }
   },
   "outputs": [
    {
     "data": {
      "text/plain": [
       "<function matplotlib.pyplot.show(close=None, block=None)>"
      ]
     },
     "execution_count": 73,
     "metadata": {},
     "output_type": "execute_result"
    },
    {
     "data": {
      "image/png": "[encoded data removed]",
      "text/plain": [
       "<Figure size 2160x360 with 1 Axes>"
      ]
     },
     "metadata": {},
     "output_type": "display_data"
    }
   ],
   "source": [
    "# 그래프의 사이즈를 조절합니다.\n",
    "plt.figure(figsize=(30,5))\n",
    "plt.xticks(rotation=80, fontsize=15)\n",
    "# seaborn의 countplot 함수를 사용하여 출력합니다.\n",
    "ax = sns.countplot(x=models.index, data = df[df[\"제작자\"].isin(models.index)], order=models.index)\n",
    "plt.show"
   ]
  },
  {
   "cell_type": "markdown",
   "metadata": {},
   "source": [
    "### 3.3. 월별 리콜 현황 출력"
   ]
  },
  {
   "cell_type": "markdown",
   "metadata": {},
   "source": [
    "월별 리콜 건수 분포를 막대 그래프로 확인해보겠습니다."
   ]
  },
  {
   "cell_type": "code",
   "execution_count": null,
   "metadata": {
    "execution": {
     "iopub.execute_input": "2021-07-14T07:49:28.582542Z",
     "iopub.status.busy": "2021-07-14T07:49:28.582092Z",
     "iopub.status.idle": "2021-07-14T07:49:28.602347Z",
     "shell.execute_reply": "2021-07-14T07:49:28.600927Z",
     "shell.execute_reply.started": "2021-07-14T07:49:28.582500Z"
    }
   },
   "outputs": [],
   "source": [
    "# 월별 리콜 건수 데이터 프레임을 확인해봅니다.\n"
   ]
  },
  {
   "cell_type": "code",
   "execution_count": null,
   "metadata": {
    "execution": {
     "iopub.execute_input": "2021-07-14T07:49:28.603985Z",
     "iopub.status.busy": "2021-07-14T07:49:28.603695Z",
     "iopub.status.idle": "2021-07-14T07:49:28.885772Z",
     "shell.execute_reply": "2021-07-14T07:49:28.884824Z",
     "shell.execute_reply.started": "2021-07-14T07:49:28.603958Z"
    }
   },
   "outputs": [],
   "source": [
    "# 그래프의 사이즈를 조절합니다.\n",
    "\n",
    "# seaborn의 countplot 함수를 사용하여 출력합니다.\n"
   ]
  },
  {
   "cell_type": "markdown",
   "metadata": {},
   "source": [
    "### 3.4. 생산연도별 리콜 현황 출력"
   ]
  },
  {
   "cell_type": "markdown",
   "metadata": {},
   "source": [
    "이번에는 생산연도별 리콜 현황을 꺾은선 그래프로 알아보겠습니다."
   ]
  },
  {
   "cell_type": "code",
   "execution_count": null,
   "metadata": {
    "execution": {
     "iopub.execute_input": "2021-07-14T07:49:28.889928Z",
     "iopub.status.busy": "2021-07-14T07:49:28.889622Z",
     "iopub.status.idle": "2021-07-14T07:49:29.175674Z",
     "shell.execute_reply": "2021-07-14T07:49:29.174749Z",
     "shell.execute_reply.started": "2021-07-14T07:49:28.889900Z"
    }
   },
   "outputs": [],
   "source": [
    "\n",
    "\n",
    "# 그래프의 사이즈를 조절합니다.\n",
    "\n",
    "\n",
    "# seaborn의 countplot 함수를 사용하여 출력합니다.\n"
   ]
  },
  {
   "cell_type": "code",
   "execution_count": null,
   "metadata": {
    "execution": {
     "iopub.execute_input": "2021-07-14T07:49:29.177616Z",
     "iopub.status.busy": "2021-07-14T07:49:29.177347Z",
     "iopub.status.idle": "2021-07-14T07:49:29.187523Z",
     "shell.execute_reply": "2021-07-14T07:49:29.186633Z",
     "shell.execute_reply.started": "2021-07-14T07:49:29.177587Z"
    }
   },
   "outputs": [],
   "source": [
    "# 생산연도별 리콜 현황 데이터를 확인해봅니다.\n"
   ]
  },
  {
   "cell_type": "markdown",
   "metadata": {},
   "source": [
    "#### 퀴즈 1. 2020년에 리콜 개시가 가장 많이 일어난 달(month)과 가장 적게 일어난 달의 차이(건수)를 구하세요."
   ]
  },
  {
   "cell_type": "code",
   "execution_count": null,
   "metadata": {
    "execution": {
     "iopub.execute_input": "2021-07-14T07:49:29.189132Z",
     "iopub.status.busy": "2021-07-14T07:49:29.188631Z",
     "iopub.status.idle": "2021-07-14T07:49:29.196432Z",
     "shell.execute_reply": "2021-07-14T07:49:29.195644Z",
     "shell.execute_reply.started": "2021-07-14T07:49:29.189101Z"
    }
   },
   "outputs": [],
   "source": [
    "# tmp = pd.DataFrame(df.groupby(\"recall_month\").count()[\"start_year\"].sort_values(ascending=False)).rename(columns={\"start_year\": \"count\"})\n",
    "# tmp.iloc[0][\"count\"]-tmp.iloc[-1][\"count\"]"
   ]
  },
  {
   "cell_type": "code",
   "execution_count": null,
   "metadata": {
    "execution": {
     "iopub.execute_input": "2021-07-14T07:49:29.197786Z",
     "iopub.status.busy": "2021-07-14T07:49:29.197409Z",
     "iopub.status.idle": "2021-07-14T07:49:29.210546Z",
     "shell.execute_reply": "2021-07-14T07:49:29.209468Z",
     "shell.execute_reply.started": "2021-07-14T07:49:29.197758Z"
    }
   },
   "outputs": [],
   "source": [
    "# 퀴즈의 답을 구하여 quiz_1 변수에 저장합니다.\n",
    "# integer 형 상수값으로 저장합니다.\n"
   ]
  },
  {
   "cell_type": "markdown",
   "metadata": {},
   "source": [
    "### 3.5. 4분기 제조사별 리콜 현황 출력"
   ]
  },
  {
   "cell_type": "markdown",
   "metadata": {},
   "source": [
    "가장 최근 데이터인 2020년 4분기(10, 11, 12월) 제조사별 리콜 현황을 시각화해봅시다."
   ]
  },
  {
   "cell_type": "code",
   "execution_count": null,
   "metadata": {
    "execution": {
     "iopub.execute_input": "2021-07-14T07:51:46.732099Z",
     "iopub.status.busy": "2021-07-14T07:51:46.731737Z",
     "iopub.status.idle": "2021-07-14T07:51:46.753539Z",
     "shell.execute_reply": "2021-07-14T07:51:46.752291Z",
     "shell.execute_reply.started": "2021-07-14T07:51:46.732069Z"
    }
   },
   "outputs": [],
   "source": [
    "# 논리연산을 이용한 조건을 다음과 같이 사용하면 해당 조건에 맞는 데이터를 출력할 수 있습니다.\n"
   ]
  },
  {
   "cell_type": "code",
   "execution_count": null,
   "metadata": {
    "execution": {
     "iopub.execute_input": "2021-07-14T07:51:51.162481Z",
     "iopub.status.busy": "2021-07-14T07:51:51.162073Z",
     "iopub.status.idle": "2021-07-14T07:51:51.673761Z",
     "shell.execute_reply": "2021-07-14T07:51:51.672838Z",
     "shell.execute_reply.started": "2021-07-14T07:51:51.162450Z"
    }
   },
   "outputs": [],
   "source": [
    "# 그래프를 출력합니다.\n"
   ]
  },
  {
   "cell_type": "markdown",
   "metadata": {},
   "source": [
    "### 3.6. 하반기 생산연도별 리콜 현황 출력"
   ]
  },
  {
   "cell_type": "markdown",
   "metadata": {},
   "source": [
    "이번에는 2020년 하반기(7~12월)에 개시된 리콜 건들을 생산 개시 연도를 기준으로 시각화해봅시다."
   ]
  },
  {
   "cell_type": "code",
   "execution_count": null,
   "metadata": {
    "execution": {
     "iopub.execute_input": "2021-07-14T07:52:05.090930Z",
     "iopub.status.busy": "2021-07-14T07:52:05.090552Z",
     "iopub.status.idle": "2021-07-14T07:52:05.114687Z",
     "shell.execute_reply": "2021-07-14T07:52:05.113535Z",
     "shell.execute_reply.started": "2021-07-14T07:52:05.090897Z"
    }
   },
   "outputs": [],
   "source": [
    "# 해당 column을 지정하여 series 형태로 출력할 수 있습니다.\n"
   ]
  },
  {
   "cell_type": "code",
   "execution_count": null,
   "metadata": {
    "execution": {
     "iopub.execute_input": "2021-07-14T07:52:07.859965Z",
     "iopub.status.busy": "2021-07-14T07:52:07.859606Z",
     "iopub.status.idle": "2021-07-14T07:52:08.225250Z",
     "shell.execute_reply": "2021-07-14T07:52:08.224548Z",
     "shell.execute_reply.started": "2021-07-14T07:52:07.859933Z"
    }
   },
   "outputs": [],
   "source": [
    "# 그래프를 출력합니다.\n"
   ]
  },
  {
   "cell_type": "markdown",
   "metadata": {},
   "source": [
    "### 3.7. 워드 클라우드를 이용한 리콜 사유 시각화"
   ]
  },
  {
   "cell_type": "markdown",
   "metadata": {},
   "source": [
    "워드 클라우드를 이용하여 리콜 사유를 시각화해보도록 하겠습니다."
   ]
  },
  {
   "cell_type": "code",
   "execution_count": null,
   "metadata": {
    "execution": {
     "iopub.execute_input": "2021-07-14T07:52:12.339345Z",
     "iopub.status.busy": "2021-07-14T07:52:12.338720Z",
     "iopub.status.idle": "2021-07-14T07:52:12.390516Z",
     "shell.execute_reply": "2021-07-14T07:52:12.389402Z",
     "shell.execute_reply.started": "2021-07-14T07:52:12.339289Z"
    }
   },
   "outputs": [],
   "source": [
    "# 워드 클라우드 생성을 도와주는 패키지를 가져옵니다.\n"
   ]
  },
  {
   "cell_type": "code",
   "execution_count": null,
   "metadata": {
    "execution": {
     "iopub.execute_input": "2021-07-14T07:52:13.248705Z",
     "iopub.status.busy": "2021-07-14T07:52:13.248293Z",
     "iopub.status.idle": "2021-07-14T07:52:13.258875Z",
     "shell.execute_reply": "2021-07-14T07:52:13.258131Z",
     "shell.execute_reply.started": "2021-07-14T07:52:13.248666Z"
    }
   },
   "outputs": [],
   "source": [
    "# 문법적인 성분들을 배제하기 위해 stopwords들을 따로 저장해둡니다.\n"
   ]
  },
  {
   "cell_type": "markdown",
   "metadata": {},
   "source": [
    "영어를 사용할 때는 상관 없지만, 우리말을 쓸 때에는 적합하지 않습니다. 여기서는 예시로 몇 개의 stopwords들을 수기로 저장해보겠습니다."
   ]
  },
  {
   "cell_type": "code",
   "execution_count": null,
   "metadata": {
    "execution": {
     "iopub.execute_input": "2021-07-14T07:52:18.596069Z",
     "iopub.status.busy": "2021-07-14T07:52:18.595561Z",
     "iopub.status.idle": "2021-07-14T07:52:18.600036Z",
     "shell.execute_reply": "2021-07-14T07:52:18.599218Z",
     "shell.execute_reply.started": "2021-07-14T07:52:18.596037Z"
    }
   },
   "outputs": [],
   "source": [
    "# 손으로 직접 리콜 사유와 관련이 적은 문법적 어구들을 배제해보겠습니다.\n"
   ]
  },
  {
   "cell_type": "code",
   "execution_count": null,
   "metadata": {
    "execution": {
     "iopub.execute_input": "2021-07-14T07:54:44.681187Z",
     "iopub.status.busy": "2021-07-14T07:54:44.680804Z",
     "iopub.status.idle": "2021-07-14T07:54:44.689509Z",
     "shell.execute_reply": "2021-07-14T07:54:44.688462Z",
     "shell.execute_reply.started": "2021-07-14T07:54:44.681132Z"
    }
   },
   "outputs": [],
   "source": [
    "# 리콜 사유에 해당하는 열의 값들을 중복 제거한 뒤 모두 이어붙여서 text라는 문자열로 저장합니다.\n"
   ]
  },
  {
   "cell_type": "markdown",
   "metadata": {},
   "source": [
    "워드 클라우드를 생성하고 시각화해보겠습니다."
   ]
  },
  {
   "cell_type": "code",
   "execution_count": null,
   "metadata": {
    "execution": {
     "iopub.execute_input": "2021-07-14T07:54:53.423675Z",
     "iopub.status.busy": "2021-07-14T07:54:53.423233Z",
     "iopub.status.idle": "2021-07-14T07:54:53.608966Z",
     "shell.execute_reply": "2021-07-14T07:54:53.606602Z",
     "shell.execute_reply.started": "2021-07-14T07:54:53.423635Z"
    }
   },
   "outputs": [],
   "source": [
    "# 한글을 사용하기 위해서는 폰트를 지정해주어야 합니다.\n"
   ]
  },
  {
   "cell_type": "markdown",
   "metadata": {},
   "source": [
    "#### 퀴즈 2. 기아자동차(주)의 제품 중 가장 최근에 리콜이 개시된 제품의 모델명을 구하세요. "
   ]
  },
  {
   "cell_type": "code",
   "execution_count": null,
   "metadata": {
    "execution": {
     "iopub.status.busy": "2021-07-14T07:49:29.359960Z",
     "iopub.status.idle": "2021-07-14T07:49:29.360405Z"
    }
   },
   "outputs": [],
   "source": [
    "# df[df['manufacturer']==\"기아자동차(주)\"].sort_values(by=[\"recall_year\", \"recall_month\", \"recall_day\"], ascending=False).iloc[0]['model']"
   ]
  },
  {
   "cell_type": "code",
   "execution_count": null,
   "metadata": {
    "execution": {
     "iopub.status.busy": "2021-07-14T07:49:29.361329Z",
     "iopub.status.idle": "2021-07-14T07:49:29.361742Z"
    }
   },
   "outputs": [],
   "source": [
    "# 퀴즈의 답을 구하여 quiz_2 변수에 저장합니다.\n",
    "# 문자형으로 저장합니다.\n"
   ]
  },
  {
   "cell_type": "markdown",
   "metadata": {},
   "source": [
    " ---"
   ]
  }
 ],
 "metadata": {
  "kernelspec": {
   "display_name": "Python 3",
   "language": "python",
   "name": "python3"
  },
  "language_info": {
   "codemirror_mode": {
    "name": "ipython",
    "version": 3
   },
   "file_extension": ".py",
   "mimetype": "text/x-python",
   "name": "python",
   "nbconvert_exporter": "python",
   "pygments_lexer": "ipython3",
   "version": "3.8.6"
  }
 },
 "nbformat": 4,
 "nbformat_minor": 4
}
